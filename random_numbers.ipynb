{
 "cells": [
  {
   "cell_type": "code",
   "execution_count": 1,
   "id": "831bbcac",
   "metadata": {},
   "outputs": [],
   "source": [
    "import random"
   ]
  },
  {
   "cell_type": "code",
   "execution_count": 3,
   "id": "0ddd0818",
   "metadata": {},
   "outputs": [
    {
     "data": {
      "text/plain": [
       "-16"
      ]
     },
     "execution_count": 3,
     "metadata": {},
     "output_type": "execute_result"
    }
   ],
   "source": [
    "random.randint(-90, 90)"
   ]
  },
  {
   "cell_type": "code",
   "execution_count": 4,
   "id": "c4a5b3f8",
   "metadata": {},
   "outputs": [
    {
     "data": {
      "text/plain": [
       "0.889536419293735"
      ]
     },
     "execution_count": 4,
     "metadata": {},
     "output_type": "execute_result"
    }
   ],
   "source": [
    "random.random()"
   ]
  },
  {
   "cell_type": "code",
   "execution_count": 6,
   "id": "f6a18d28",
   "metadata": {},
   "outputs": [
    {
     "data": {
      "text/plain": [
       "[43.6471506512969,\n",
       " -72.48606614215464,\n",
       " 66.71739185714097,\n",
       " -76.03029407904846,\n",
       " 6.798671303159513,\n",
       " 87.84159231069651,\n",
       " 32.54514827600651,\n",
       " -86.2707077179437,\n",
       " -57.97260137170123,\n",
       " 14.691317596116068]"
      ]
     },
     "execution_count": 6,
     "metadata": {},
     "output_type": "execute_result"
    }
   ],
   "source": [
    "x = 1\n",
    "latitudes = []\n",
    "while x < 11:\n",
    "    random_lat = random.randint(-90, 89) + random.random()\n",
    "    latitudes.append(random_lat)\n",
    "    x += 1\n",
    "latitudes"
   ]
  },
  {
   "cell_type": "code",
   "execution_count": 7,
   "id": "e697673e",
   "metadata": {},
   "outputs": [
    {
     "data": {
      "text/plain": [
       "-5"
      ]
     },
     "execution_count": 7,
     "metadata": {},
     "output_type": "execute_result"
    }
   ],
   "source": [
    "random.randrange(-90, 90, step=1)"
   ]
  },
  {
   "cell_type": "code",
   "execution_count": 8,
   "id": "f7dd07db",
   "metadata": {},
   "outputs": [
    {
     "data": {
      "text/plain": [
       "64.33104531907745"
      ]
     },
     "execution_count": 8,
     "metadata": {},
     "output_type": "execute_result"
    }
   ],
   "source": [
    "random.uniform(-90, 90)"
   ]
  },
  {
   "cell_type": "code",
   "execution_count": 9,
   "id": "25630507",
   "metadata": {},
   "outputs": [],
   "source": [
    "# Import the NumPy module.\n",
    "import numpy as np"
   ]
  },
  {
   "cell_type": "code",
   "execution_count": 10,
   "id": "cad4efd6",
   "metadata": {},
   "outputs": [
    {
     "data": {
      "text/plain": [
       "48.389017222137426"
      ]
     },
     "execution_count": 10,
     "metadata": {},
     "output_type": "execute_result"
    }
   ],
   "source": [
    "np.random.uniform(-90.000, 90.000)"
   ]
  },
  {
   "cell_type": "code",
   "execution_count": 11,
   "id": "872b2f98",
   "metadata": {},
   "outputs": [
    {
     "data": {
      "text/plain": [
       "array([-62.84948202, -31.63439402, -30.40716363, -44.45608407,\n",
       "       -26.49175038,  45.33462172,  63.67517172, -77.24332162,\n",
       "         1.78022684, -89.06227305, -11.63130466, -13.34032171,\n",
       "        80.97179033, -33.8895328 ,  50.57722092, -86.67367071,\n",
       "       -75.54446467, -26.91282674,  87.22921319, -42.79882584,\n",
       "       -16.83309534, -31.07917855,  24.24111376, -12.71433418,\n",
       "        47.07850452,  26.01821254,  19.82260155, -44.08035286,\n",
       "        38.53771767, -26.25123411, -68.37131572,  67.24651512,\n",
       "       -34.55272126, -67.95639207,  37.78689178,  42.16871093,\n",
       "       -43.59715051,  13.02064157, -65.7952538 ,  79.24806047,\n",
       "        72.2582357 , -56.77400058,  87.88819786,  52.70497762,\n",
       "       -88.99561845,  60.5527717 ,  65.46789266,  69.12408013,\n",
       "       -20.95995057,   9.83310076])"
      ]
     },
     "execution_count": 11,
     "metadata": {},
     "output_type": "execute_result"
    }
   ],
   "source": [
    "np.random.uniform(-90.000, 90.000, size=50)"
   ]
  },
  {
   "cell_type": "code",
   "execution_count": 12,
   "id": "38ee6b4b",
   "metadata": {},
   "outputs": [],
   "source": [
    "# Import timeit.\n",
    "import timeit"
   ]
  },
  {
   "cell_type": "code",
   "execution_count": 13,
   "id": "05afad2c",
   "metadata": {},
   "outputs": [
    {
     "name": "stdout",
     "output_type": "stream",
     "text": [
      "12.7 µs ± 61.4 ns per loop (mean ± std. dev. of 7 runs, 100000 loops each)\n"
     ]
    }
   ],
   "source": [
    "%timeit np.random.uniform(-90.000, 90.000, size=1500)"
   ]
  },
  {
   "cell_type": "code",
   "execution_count": 14,
   "id": "22508542",
   "metadata": {},
   "outputs": [
    {
     "name": "stdout",
     "output_type": "stream",
     "text": [
      "1.13 ms ± 7.25 µs per loop (mean ± std. dev. of 7 runs, 1000 loops each)\n"
     ]
    }
   ],
   "source": [
    "def latitudes(size):\n",
    "    latitudes = []\n",
    "    x = 0\n",
    "    while x < (size):\n",
    "        random_lat = random.randint(-90, 90) + random.random()\n",
    "        latitudes.append(random_lat)\n",
    "        x += 1\n",
    "    return latitudes\n",
    "# Call the function with 1500.\n",
    "%timeit latitudes(1500)"
   ]
  },
  {
   "cell_type": "code",
   "execution_count": null,
   "id": "d50bbf5d",
   "metadata": {},
   "outputs": [],
   "source": []
  }
 ],
 "metadata": {
  "kernelspec": {
   "display_name": "PythonData",
   "language": "python",
   "name": "pythondata"
  },
  "language_info": {
   "codemirror_mode": {
    "name": "ipython",
    "version": 3
   },
   "file_extension": ".py",
   "mimetype": "text/x-python",
   "name": "python",
   "nbconvert_exporter": "python",
   "pygments_lexer": "ipython3",
   "version": "3.8.8"
  }
 },
 "nbformat": 4,
 "nbformat_minor": 5
}
